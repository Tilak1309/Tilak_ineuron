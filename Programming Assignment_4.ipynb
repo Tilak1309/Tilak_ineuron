{
 "cells": [
  {
   "cell_type": "markdown",
   "metadata": {},
   "source": [
    "# 1. Write a Python Program to Find the Factorial of a Number?"
   ]
  },
  {
   "cell_type": "code",
   "execution_count": 2,
   "metadata": {},
   "outputs": [
    {
     "data": {
      "text/plain": [
       "24"
      ]
     },
     "execution_count": 2,
     "metadata": {},
     "output_type": "execute_result"
    }
   ],
   "source": [
    "def Factorial(m):\n",
    "    ''' This function will display the factorial of a Number'''\n",
    "    fact = 1\n",
    "    for i in range(1,m+1):\n",
    "        fact=fact*i\n",
    "    return fact\n",
    "\n",
    "Factorial(4)"
   ]
  },
  {
   "cell_type": "markdown",
   "metadata": {},
   "source": [
    "# 2. Write a Python Program to Display the multiplication Table?"
   ]
  },
  {
   "cell_type": "code",
   "execution_count": 6,
   "metadata": {
    "scrolled": true
   },
   "outputs": [
    {
     "name": "stdout",
     "output_type": "stream",
     "text": [
      "4 x 1 = 4\n",
      "4 x 2 = 8\n",
      "4 x 3 = 12\n",
      "4 x 4 = 16\n",
      "4 x 5 = 20\n",
      "4 x 6 = 24\n",
      "4 x 7 = 28\n",
      "4 x 8 = 32\n",
      "4 x 9 = 36\n",
      "4 x 10 = 40\n",
      "4 x 11 = 44\n",
      "4 x 12 = 48\n"
     ]
    }
   ],
   "source": [
    "def MultTable(m):\n",
    "    '''This function would print Multiplication table for a given number till 12'''\n",
    "    for i in range(1,13):\n",
    "        print(m,\"x\",i,\"=\",m*i)\n",
    "MultTable(4)"
   ]
  },
  {
   "cell_type": "markdown",
   "metadata": {},
   "source": [
    "# 3. Write a Python Program to Print the Fibonacci sequence?"
   ]
  },
  {
   "cell_type": "code",
   "execution_count": 19,
   "metadata": {},
   "outputs": [
    {
     "name": "stdout",
     "output_type": "stream",
     "text": [
      "0 \n",
      " 1\n",
      "1\n",
      "2\n",
      "3\n",
      "5\n",
      "8\n",
      "13\n",
      "21\n",
      "34\n",
      "55\n",
      "89\n",
      "144\n",
      "233\n",
      "377\n",
      "610\n"
     ]
    }
   ],
   "source": [
    "def Fibonacci(m):\n",
    "    '''this function generates fibonacci sequence'''\n",
    "    a=0\n",
    "    b=1\n",
    "    print(a,\"\\n\",b)\n",
    "    for i in range(m):\n",
    "        c=a+b\n",
    "        a,b=b,a+b\n",
    "        print(c)\n",
    "\n",
    "Fibonacci(14)"
   ]
  },
  {
   "cell_type": "markdown",
   "metadata": {},
   "source": [
    "# 4. Write a Python Program to Check Armstrong Number?"
   ]
  },
  {
   "cell_type": "code",
   "execution_count": 21,
   "metadata": {},
   "outputs": [
    {
     "name": "stdout",
     "output_type": "stream",
     "text": [
      "370 is an Armstrong Number\n"
     ]
    }
   ],
   "source": [
    "def Armstrong(m):\n",
    "    arm=0\n",
    "    for i in str(m):\n",
    "        arm+=int(i)**3\n",
    "    if (arm==m):\n",
    "        print(m,\"is an Armstrong Number\")\n",
    "    else:\n",
    "        print(m,\"is Not an Armstrong Number\")\n",
    "\n",
    "Armstrong(370)"
   ]
  },
  {
   "cell_type": "markdown",
   "metadata": {},
   "source": [
    "# 5. Write a Python Program to Find Armstrong Number in an Interval?"
   ]
  },
  {
   "cell_type": "code",
   "execution_count": 24,
   "metadata": {},
   "outputs": [
    {
     "name": "stdout",
     "output_type": "stream",
     "text": [
      "[0, 1, 153, 370, 371, 407] are the Armstrong Numbers found in the given range\n"
     ]
    }
   ],
   "source": [
    "def ArmstrongRange(m,n):\n",
    "    '''This function would print Armstrong numbers in a range'''\n",
    "    l=[]\n",
    "    for i in range(m,n+1):\n",
    "        arm = 0\n",
    "        for j in str(i):\n",
    "            arm+=int(j)**3\n",
    "        if (arm==i):\n",
    "             l.append(i)\n",
    "    if (len(l)==0):\n",
    "        print( \"No Armstrong found in this range\")\n",
    "    else:\n",
    "        print(l, \"are the Armstrong Numbers found in the given range\")\n",
    "ArmstrongRange(0,1000)"
   ]
  },
  {
   "cell_type": "markdown",
   "metadata": {},
   "source": [
    "# 6. Write a Python Program to Find the Sum of Natural Numbers?"
   ]
  },
  {
   "cell_type": "code",
   "execution_count": 39,
   "metadata": {},
   "outputs": [
    {
     "data": {
      "text/plain": [
       "5050"
      ]
     },
     "execution_count": 39,
     "metadata": {},
     "output_type": "execute_result"
    }
   ],
   "source": [
    "def SumNaturalNum(m):\n",
    "    '''This would print the sum of natural numbers till the number asked'''\n",
    "    sum=0\n",
    "    for i in range(0,m+1):\n",
    "        sum+=i\n",
    "    return sum\n",
    "SumNaturalNum(100)"
   ]
  },
  {
   "cell_type": "code",
   "execution_count": null,
   "metadata": {},
   "outputs": [],
   "source": []
  }
 ],
 "metadata": {
  "kernelspec": {
   "display_name": "Python 3",
   "language": "python",
   "name": "python3"
  },
  "language_info": {
   "codemirror_mode": {
    "name": "ipython",
    "version": 3
   },
   "file_extension": ".py",
   "mimetype": "text/x-python",
   "name": "python",
   "nbconvert_exporter": "python",
   "pygments_lexer": "ipython3",
   "version": "3.8.3"
  }
 },
 "nbformat": 4,
 "nbformat_minor": 4
}
