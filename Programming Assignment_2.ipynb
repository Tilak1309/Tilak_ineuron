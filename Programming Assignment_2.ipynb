{
 "cells": [
  {
   "cell_type": "markdown",
   "metadata": {},
   "source": [
    "1. write a program to convert kilometers to miles"
   ]
  },
  {
   "cell_type": "code",
   "execution_count": 1,
   "metadata": {},
   "outputs": [],
   "source": [
    "def kmTomiles(m):\n",
    "    '''this function converts Km to miles'''\n",
    "    return m*0.621371"
   ]
  },
  {
   "cell_type": "code",
   "execution_count": 2,
   "metadata": {},
   "outputs": [
    {
     "name": "stdout",
     "output_type": "stream",
     "text": [
      "Enter the Kilometers to be converted to miles2\n",
      "Total miles=  1.242742\n"
     ]
    }
   ],
   "source": [
    "m=float(input(\"Enter the Kilometers to be converted to miles\"))\n",
    "print(\"Total miles= \",kmTomiles(m))"
   ]
  },
  {
   "cell_type": "markdown",
   "metadata": {},
   "source": [
    "2. write a program to convert Celsius to Farenheit"
   ]
  },
  {
   "cell_type": "code",
   "execution_count": 3,
   "metadata": {},
   "outputs": [],
   "source": [
    "def CelToFaren(C):\n",
    "    ''' this function si to convert Celsius to Farenheit'''\n",
    "    return (C*1.8)+32"
   ]
  },
  {
   "cell_type": "code",
   "execution_count": 5,
   "metadata": {},
   "outputs": [
    {
     "name": "stdout",
     "output_type": "stream",
     "text": [
      "Enter the temperature in Celsius-10\n",
      "Temperature in Farenheit=  14.0\n"
     ]
    }
   ],
   "source": [
    "celsius=float(input(\"Enter the temperature in Celsius\"))\n",
    "print(\"Temperature in Farenheit= \",CelToFaren(celsius))"
   ]
  },
  {
   "cell_type": "markdown",
   "metadata": {},
   "source": [
    "3. write a program to display calendar"
   ]
  },
  {
   "cell_type": "code",
   "execution_count": 8,
   "metadata": {},
   "outputs": [
    {
     "name": "stdout",
     "output_type": "stream",
     "text": [
      "Enter the number-month0\n",
      "Enter the year2022\n",
      "Month value should be b/w 1 and 12\n",
      "Enter the number-month0\n",
      "Enter the yeardd\n",
      "invalid literal for int() with base 10: 'dd'\n",
      "Enter the number-month1\n",
      "Enter the year2022\n",
      "    January 2022\n",
      "Mo Tu We Th Fr Sa Su\n",
      "                1  2\n",
      " 3  4  5  6  7  8  9\n",
      "10 11 12 13 14 15 16\n",
      "17 18 19 20 21 22 23\n",
      "24 25 26 27 28 29 30\n",
      "31\n",
      "\n"
     ]
    }
   ],
   "source": [
    "import calendar\n",
    "\n",
    "class monthError(Exception):\n",
    "    pass\n",
    "while True:\n",
    "    try:\n",
    "        month=int(input(\"Enter the number-month\"))\n",
    "        year=int(input(\"Enter the year\"))\n",
    "        if month<1 or month>12:\n",
    "            raise monthError(\"Month value should be b/w 1 and 12\")\n",
    "        print(calendar.month(year,month),end=\"\\n\")\n",
    "        break\n",
    "    except monthError as e:\n",
    "        print(e)\n",
    "    except Exception as e:\n",
    "        print(e)"
   ]
  },
  {
   "cell_type": "markdown",
   "metadata": {},
   "source": [
    "4. write a program to solve a quadratic equation"
   ]
  },
  {
   "cell_type": "code",
   "execution_count": 1,
   "metadata": {},
   "outputs": [
    {
     "name": "stdout",
     "output_type": "stream",
     "text": [
      "Enter a Non-Zero Value0\n",
      "Enter b value2\n",
      "Enter c value4\n",
      "Following Exception has been raised  a value should be a non-zero value for this equation to be a Quadratic equation\n",
      "Enter a Non-Zero Value10\n",
      "Enter b value20\n",
      "Enter c value1000\n",
      "Imaginary or Complex roots\n",
      "-1.0 +i 198.997487421324\n",
      "-1.0 -i 198.997487421324\n"
     ]
    }
   ],
   "source": [
    "import math\n",
    "\n",
    "\n",
    "def QE(a, b, c):\n",
    "    '''This function is for solving quadratic equations for its roots'''\n",
    "\n",
    "    # For calculating discriminanat\n",
    "    discriminant = (b ** 2 - 4 * a * c)\n",
    "    sqrt_disc = math.sqrt(abs(discriminant))\n",
    "\n",
    "    if discriminant > 0:\n",
    "        print(\"Equation has Real and Different roots: \")\n",
    "        print((-b + sqrt_disc) / (2 * a))\n",
    "        print((-b - sqrt_disc) / (2 * a))\n",
    "    elif discriminant == 0:\n",
    "        print(\"Equation has Real and same roots\")\n",
    "        print((-b / (2 * a)))\n",
    "    else:\n",
    "        print(\"Imaginary or Complex roots\")\n",
    "        print(-b / (2 * a), \"+i\", sqrt_disc)\n",
    "        print(-b / (2 * a), \"-i\", sqrt_disc)\n",
    "\n",
    "\n",
    "class AvalueError(Exception):\n",
    "    pass\n",
    "\n",
    "while True:\n",
    "    try:\n",
    "        a = int(input(\"Enter a Non-Zero Value\"))\n",
    "        b = int(input(\"Enter b value\"))\n",
    "        c = int(input(\"Enter c value\"))\n",
    "\n",
    "        if a == 0:\n",
    "            raise AvalueError(\" a value should be a non-zero value for this equation to be a Quadratic equation\")\n",
    "\n",
    "    except AvalueError as e:\n",
    "        print(\"Following Exception has been raised\", e)\n",
    "    else:\n",
    "        QE(a, b, c)\n",
    "        break\n"
   ]
  },
  {
   "cell_type": "markdown",
   "metadata": {},
   "source": [
    "5. write a python program to swap 2 variables without temp vaiable"
   ]
  },
  {
   "cell_type": "code",
   "execution_count": 9,
   "metadata": {},
   "outputs": [],
   "source": [
    "def swap(a,b):\n",
    "    a=a+b\n",
    "    b=a-b\n",
    "    a=a-b\n",
    "    return a,b"
   ]
  },
  {
   "cell_type": "code",
   "execution_count": 11,
   "metadata": {},
   "outputs": [
    {
     "data": {
      "text/plain": [
       "(10, 4)"
      ]
     },
     "execution_count": 11,
     "metadata": {},
     "output_type": "execute_result"
    }
   ],
   "source": [
    "swap(4,10)"
   ]
  },
  {
   "cell_type": "code",
   "execution_count": null,
   "metadata": {},
   "outputs": [],
   "source": []
  }
 ],
 "metadata": {
  "kernelspec": {
   "display_name": "Python 3",
   "language": "python",
   "name": "python3"
  },
  "language_info": {
   "codemirror_mode": {
    "name": "ipython",
    "version": 3
   },
   "file_extension": ".py",
   "mimetype": "text/x-python",
   "name": "python",
   "nbconvert_exporter": "python",
   "pygments_lexer": "ipython3",
   "version": "3.8.3"
  }
 },
 "nbformat": 4,
 "nbformat_minor": 4
}
